{
  "nbformat": 4,
  "nbformat_minor": 0,
  "metadata": {
    "colab": {
      "name": "Esun_QuantTeam_Lesson_2.ipynb",
      "provenance": [],
      "collapsed_sections": [
        "CZTBoiuicsIa",
        "l3OyM_CWXuYB"
      ],
      "toc_visible": true,
      "authorship_tag": "ABX9TyOmyzJaPeSzIoLJ11gbcuh9",
      "include_colab_link": true
    },
    "kernelspec": {
      "name": "python3",
      "display_name": "Python 3"
    }
  },
  "cells": [
    {
      "cell_type": "markdown",
      "metadata": {
        "id": "view-in-github",
        "colab_type": "text"
      },
      "source": [
        "<a href=\"https://colab.research.google.com/github/x87170/3rd-ML100Days/blob/master/Esun_QuantTeam_Lesson_2.ipynb\" target=\"_parent\"><img src=\"https://colab.research.google.com/assets/colab-badge.svg\" alt=\"Open In Colab\"/></a>"
      ]
    },
    {
      "cell_type": "markdown",
      "metadata": {
        "id": "Q29ACVVHaCm0",
        "colab_type": "text"
      },
      "source": [
        "## **Python Course for Esun Quant Team July 27, 2020**\n",
        "### **Agenda**\n",
        "\n",
        "\n",
        "- Lesson 3 - Pandas-Group by\n",
        "\n",
        "- Lesson 4 - Sklearn"
      ]
    },
    {
      "cell_type": "markdown",
      "metadata": {
        "id": "Y95H_ClJfpvu",
        "colab_type": "text"
      },
      "source": [
        "## **Lession 3 - Pandas更多應用**"
      ]
    },
    {
      "cell_type": "markdown",
      "metadata": {
        "id": "CZTBoiuicsIa",
        "colab_type": "text"
      },
      "source": [
        "### **Group by**\n",
        "\n",
        "##### 有時會需要做資料統整的處理，這時會使用到groupby的功能\n",
        "\n",
        "```\n",
        "df.groupby(['需要作為樞紐的key']).sum()\n",
        "```\n",
        "並且看要做出何種處理(案例中用加總舉例)"
      ]
    },
    {
      "cell_type": "code",
      "metadata": {
        "id": "_6IGW0HPK9Sk",
        "colab_type": "code",
        "colab": {
          "base_uri": "https://localhost:8080/",
          "height": 235
        },
        "outputId": "db4fa9f1-e588-4506-b038-a8276957f32e"
      },
      "source": [
        "#e.g. 以下表格為各顧客總AUM資料\n",
        "#讀進資料\n",
        "df3 = pd.read_csv('CM.csv',encoding= 'BIG5')\n",
        "\n",
        "#因顧客資料無法進行運算，先刪除\n",
        "df3.drop(columns=['Cust_No'],inplace = True)\n",
        "\n",
        "#以各區域進行加總\n",
        "df_region = df3.groupby('Region').sum()\n",
        "df_region.head()"
      ],
      "execution_count": null,
      "outputs": [
        {
          "output_type": "execute_result",
          "data": {
            "text/html": [
              "<div>\n",
              "<style scoped>\n",
              "    .dataframe tbody tr th:only-of-type {\n",
              "        vertical-align: middle;\n",
              "    }\n",
              "\n",
              "    .dataframe tbody tr th {\n",
              "        vertical-align: top;\n",
              "    }\n",
              "\n",
              "    .dataframe thead th {\n",
              "        text-align: right;\n",
              "    }\n",
              "</style>\n",
              "<table border=\"1\" class=\"dataframe\">\n",
              "  <thead>\n",
              "    <tr style=\"text-align: right;\">\n",
              "      <th></th>\n",
              "      <th>AUM</th>\n",
              "    </tr>\n",
              "    <tr>\n",
              "      <th>Region</th>\n",
              "      <th></th>\n",
              "    </tr>\n",
              "  </thead>\n",
              "  <tbody>\n",
              "    <tr>\n",
              "      <th>北市三</th>\n",
              "      <td>16984502</td>\n",
              "    </tr>\n",
              "    <tr>\n",
              "      <th>北市二</th>\n",
              "      <td>14520154</td>\n",
              "    </tr>\n",
              "    <tr>\n",
              "      <th>北高雄</th>\n",
              "      <td>2323123</td>\n",
              "    </tr>\n",
              "    <tr>\n",
              "      <th>南台中</th>\n",
              "      <td>9874410</td>\n",
              "    </tr>\n",
              "    <tr>\n",
              "      <th>南高雄</th>\n",
              "      <td>874574</td>\n",
              "    </tr>\n",
              "  </tbody>\n",
              "</table>\n",
              "</div>"
            ],
            "text/plain": [
              "             AUM\n",
              "Region          \n",
              "北市三     16984502\n",
              "北市二     14520154\n",
              "北高雄      2323123\n",
              "南台中      9874410\n",
              "南高雄       874574"
            ]
          },
          "metadata": {
            "tags": []
          },
          "execution_count": 78
        }
      ]
    },
    {
      "cell_type": "code",
      "metadata": {
        "id": "8BsvKnWHVedW",
        "colab_type": "code",
        "colab": {
          "base_uri": "https://localhost:8080/",
          "height": 235
        },
        "outputId": "a108c581-ef99-47d9-e423-2df2e74c8dde"
      },
      "source": [
        "#以各區及分行進行加總\n",
        "df_div = df3.groupby(['Region','Division']).sum()\n",
        "df_div.head()"
      ],
      "execution_count": null,
      "outputs": [
        {
          "output_type": "execute_result",
          "data": {
            "text/html": [
              "<div>\n",
              "<style scoped>\n",
              "    .dataframe tbody tr th:only-of-type {\n",
              "        vertical-align: middle;\n",
              "    }\n",
              "\n",
              "    .dataframe tbody tr th {\n",
              "        vertical-align: top;\n",
              "    }\n",
              "\n",
              "    .dataframe thead th {\n",
              "        text-align: right;\n",
              "    }\n",
              "</style>\n",
              "<table border=\"1\" class=\"dataframe\">\n",
              "  <thead>\n",
              "    <tr style=\"text-align: right;\">\n",
              "      <th></th>\n",
              "      <th></th>\n",
              "      <th>AUM</th>\n",
              "    </tr>\n",
              "    <tr>\n",
              "      <th>Region</th>\n",
              "      <th>Division</th>\n",
              "      <th></th>\n",
              "    </tr>\n",
              "  </thead>\n",
              "  <tbody>\n",
              "    <tr>\n",
              "      <th rowspan=\"2\" valign=\"top\">北市三</th>\n",
              "      <th>基隆路</th>\n",
              "      <td>9000000</td>\n",
              "    </tr>\n",
              "    <tr>\n",
              "      <th>敦南</th>\n",
              "      <td>7984502</td>\n",
              "    </tr>\n",
              "    <tr>\n",
              "      <th>北市二</th>\n",
              "      <th>營業部</th>\n",
              "      <td>14520154</td>\n",
              "    </tr>\n",
              "    <tr>\n",
              "      <th>北高雄</th>\n",
              "      <th>岡山</th>\n",
              "      <td>2323123</td>\n",
              "    </tr>\n",
              "    <tr>\n",
              "      <th>南台中</th>\n",
              "      <th>員林</th>\n",
              "      <td>9874410</td>\n",
              "    </tr>\n",
              "  </tbody>\n",
              "</table>\n",
              "</div>"
            ],
            "text/plain": [
              "                      AUM\n",
              "Region Division          \n",
              "北市三    基隆路        9000000\n",
              "       敦南         7984502\n",
              "北市二    營業部       14520154\n",
              "北高雄    岡山         2323123\n",
              "南台中    員林         9874410"
            ]
          },
          "metadata": {
            "tags": []
          },
          "execution_count": 80
        }
      ]
    },
    {
      "cell_type": "code",
      "metadata": {
        "id": "16Pu0Tm1Veft",
        "colab_type": "code",
        "colab": {
          "base_uri": "https://localhost:8080/",
          "height": 235
        },
        "outputId": "d104cdab-d47c-405f-860e-27c9c30b7b02"
      },
      "source": [
        "#以各IC進行加總\n",
        "df_IC = df3.groupby('IC_Name').sum()\n",
        "df_IC.head()"
      ],
      "execution_count": null,
      "outputs": [
        {
          "output_type": "execute_result",
          "data": {
            "text/html": [
              "<div>\n",
              "<style scoped>\n",
              "    .dataframe tbody tr th:only-of-type {\n",
              "        vertical-align: middle;\n",
              "    }\n",
              "\n",
              "    .dataframe tbody tr th {\n",
              "        vertical-align: top;\n",
              "    }\n",
              "\n",
              "    .dataframe thead th {\n",
              "        text-align: right;\n",
              "    }\n",
              "</style>\n",
              "<table border=\"1\" class=\"dataframe\">\n",
              "  <thead>\n",
              "    <tr style=\"text-align: right;\">\n",
              "      <th></th>\n",
              "      <th>AUM</th>\n",
              "    </tr>\n",
              "    <tr>\n",
              "      <th>IC_Name</th>\n",
              "      <th></th>\n",
              "    </tr>\n",
              "  </thead>\n",
              "  <tbody>\n",
              "    <tr>\n",
              "      <th>Andy</th>\n",
              "      <td>6666666</td>\n",
              "    </tr>\n",
              "    <tr>\n",
              "      <th>Billy</th>\n",
              "      <td>2323123</td>\n",
              "    </tr>\n",
              "    <tr>\n",
              "      <th>Candy</th>\n",
              "      <td>5454755</td>\n",
              "    </tr>\n",
              "    <tr>\n",
              "      <th>David</th>\n",
              "      <td>9874410</td>\n",
              "    </tr>\n",
              "    <tr>\n",
              "      <th>Eric</th>\n",
              "      <td>150597391</td>\n",
              "    </tr>\n",
              "  </tbody>\n",
              "</table>\n",
              "</div>"
            ],
            "text/plain": [
              "               AUM\n",
              "IC_Name           \n",
              "Andy       6666666\n",
              "Billy      2323123\n",
              "Candy      5454755\n",
              "David      9874410\n",
              "Eric     150597391"
            ]
          },
          "metadata": {
            "tags": []
          },
          "execution_count": 81
        }
      ]
    },
    {
      "cell_type": "markdown",
      "metadata": {
        "id": "l3OyM_CWXuYB",
        "colab_type": "text"
      },
      "source": [
        "### **排序**\n",
        "\n",
        "##### 若需要排序資料,使用`df.sort_values(by=, ascending= True )`\n",
        "其中by填入要排序的欄，ascending表示是否要升冪排列(由小到大)"
      ]
    },
    {
      "cell_type": "code",
      "metadata": {
        "id": "bbpl8qTRdCNh",
        "colab_type": "code",
        "colab": {
          "base_uri": "https://localhost:8080/",
          "height": 452
        },
        "outputId": "4057b540-6a4d-47c4-d7b1-ef6378cea2c0"
      },
      "source": [
        "df_IC.sort_values('AUM',ascending=False)"
      ],
      "execution_count": null,
      "outputs": [
        {
          "output_type": "execute_result",
          "data": {
            "text/html": [
              "<div>\n",
              "<style scoped>\n",
              "    .dataframe tbody tr th:only-of-type {\n",
              "        vertical-align: middle;\n",
              "    }\n",
              "\n",
              "    .dataframe tbody tr th {\n",
              "        vertical-align: top;\n",
              "    }\n",
              "\n",
              "    .dataframe thead th {\n",
              "        text-align: right;\n",
              "    }\n",
              "</style>\n",
              "<table border=\"1\" class=\"dataframe\">\n",
              "  <thead>\n",
              "    <tr style=\"text-align: right;\">\n",
              "      <th></th>\n",
              "      <th>AUM</th>\n",
              "    </tr>\n",
              "    <tr>\n",
              "      <th>IC_Name</th>\n",
              "      <th></th>\n",
              "    </tr>\n",
              "  </thead>\n",
              "  <tbody>\n",
              "    <tr>\n",
              "      <th>Eric</th>\n",
              "      <td>150597391</td>\n",
              "    </tr>\n",
              "    <tr>\n",
              "      <th>Peter</th>\n",
              "      <td>76157315</td>\n",
              "    </tr>\n",
              "    <tr>\n",
              "      <th>Thor</th>\n",
              "      <td>46427521</td>\n",
              "    </tr>\n",
              "    <tr>\n",
              "      <th>Tina</th>\n",
              "      <td>35760094</td>\n",
              "    </tr>\n",
              "    <tr>\n",
              "      <th>David</th>\n",
              "      <td>9874410</td>\n",
              "    </tr>\n",
              "    <tr>\n",
              "      <th>Andy</th>\n",
              "      <td>6666666</td>\n",
              "    </tr>\n",
              "    <tr>\n",
              "      <th>Linda</th>\n",
              "      <td>5531909</td>\n",
              "    </tr>\n",
              "    <tr>\n",
              "      <th>Candy</th>\n",
              "      <td>5454755</td>\n",
              "    </tr>\n",
              "    <tr>\n",
              "      <th>Billy</th>\n",
              "      <td>2323123</td>\n",
              "    </tr>\n",
              "    <tr>\n",
              "      <th>John</th>\n",
              "      <td>1234210</td>\n",
              "    </tr>\n",
              "    <tr>\n",
              "      <th>Henrry</th>\n",
              "      <td>987578</td>\n",
              "    </tr>\n",
              "    <tr>\n",
              "      <th>Frank</th>\n",
              "      <td>874574</td>\n",
              "    </tr>\n",
              "  </tbody>\n",
              "</table>\n",
              "</div>"
            ],
            "text/plain": [
              "               AUM\n",
              "IC_Name           \n",
              "Eric     150597391\n",
              "Peter     76157315\n",
              "Thor      46427521\n",
              "Tina      35760094\n",
              "David      9874410\n",
              "Andy       6666666\n",
              "Linda      5531909\n",
              "Candy      5454755\n",
              "Billy      2323123\n",
              "John       1234210\n",
              "Henrry      987578\n",
              "Frank       874574"
            ]
          },
          "metadata": {
            "tags": []
          },
          "execution_count": 88
        }
      ]
    },
    {
      "cell_type": "markdown",
      "metadata": {
        "id": "cRRpXj36dCYV",
        "colab_type": "text"
      },
      "source": [
        "### **資料合併Concat, Merge**\n",
        "\n",
        "#####  \n",
        "**Concat-**\n",
        "最主要用在多個表格的串接，單純的直向or橫向併表格\n",
        "```\n",
        "pd.concat([df1,df2,df3], axis = 0) #直向\n",
        "pd.concat([df1,df2,df3], axis = 1) #橫向\n",
        "```\n",
        "\n"
      ]
    },
    {
      "cell_type": "code",
      "metadata": {
        "id": "JrMqn7yxf5xH",
        "colab_type": "code",
        "colab": {
          "base_uri": "https://localhost:8080/",
          "height": 235
        },
        "outputId": "aa85b37b-41f2-4284-9a71-8c0116694422"
      },
      "source": [
        "import pandas as pd\n",
        "df1 = pd.DataFrame({'A':[1,2,3],'B':[4,5,6]})\n",
        "df2 = pd.DataFrame({'A':[1,6,7],'D':[7,8,9]})\n",
        "pd.concat([df1,df2],axis=0) #可加入ignore_index = True/False\n"
      ],
      "execution_count": null,
      "outputs": [
        {
          "output_type": "execute_result",
          "data": {
            "text/html": [
              "<div>\n",
              "<style scoped>\n",
              "    .dataframe tbody tr th:only-of-type {\n",
              "        vertical-align: middle;\n",
              "    }\n",
              "\n",
              "    .dataframe tbody tr th {\n",
              "        vertical-align: top;\n",
              "    }\n",
              "\n",
              "    .dataframe thead th {\n",
              "        text-align: right;\n",
              "    }\n",
              "</style>\n",
              "<table border=\"1\" class=\"dataframe\">\n",
              "  <thead>\n",
              "    <tr style=\"text-align: right;\">\n",
              "      <th></th>\n",
              "      <th>A</th>\n",
              "      <th>B</th>\n",
              "      <th>D</th>\n",
              "    </tr>\n",
              "  </thead>\n",
              "  <tbody>\n",
              "    <tr>\n",
              "      <th>0</th>\n",
              "      <td>1</td>\n",
              "      <td>4.0</td>\n",
              "      <td>NaN</td>\n",
              "    </tr>\n",
              "    <tr>\n",
              "      <th>1</th>\n",
              "      <td>2</td>\n",
              "      <td>5.0</td>\n",
              "      <td>NaN</td>\n",
              "    </tr>\n",
              "    <tr>\n",
              "      <th>2</th>\n",
              "      <td>3</td>\n",
              "      <td>6.0</td>\n",
              "      <td>NaN</td>\n",
              "    </tr>\n",
              "    <tr>\n",
              "      <th>0</th>\n",
              "      <td>1</td>\n",
              "      <td>NaN</td>\n",
              "      <td>7.0</td>\n",
              "    </tr>\n",
              "    <tr>\n",
              "      <th>1</th>\n",
              "      <td>6</td>\n",
              "      <td>NaN</td>\n",
              "      <td>8.0</td>\n",
              "    </tr>\n",
              "    <tr>\n",
              "      <th>2</th>\n",
              "      <td>7</td>\n",
              "      <td>NaN</td>\n",
              "      <td>9.0</td>\n",
              "    </tr>\n",
              "  </tbody>\n",
              "</table>\n",
              "</div>"
            ],
            "text/plain": [
              "   A    B    D\n",
              "0  1  4.0  NaN\n",
              "1  2  5.0  NaN\n",
              "2  3  6.0  NaN\n",
              "0  1  NaN  7.0\n",
              "1  6  NaN  8.0\n",
              "2  7  NaN  9.0"
            ]
          },
          "metadata": {
            "tags": []
          },
          "execution_count": 111
        }
      ]
    },
    {
      "cell_type": "code",
      "metadata": {
        "id": "JNkx6_bACRKR",
        "colab_type": "code",
        "colab": {
          "base_uri": "https://localhost:8080/",
          "height": 142
        },
        "outputId": "b8c6924f-61fa-4d8b-d518-ffdac396ab55"
      },
      "source": [
        "pd.concat([df1,df2],axis=1) #可加入ignore_index = True/False"
      ],
      "execution_count": null,
      "outputs": [
        {
          "output_type": "execute_result",
          "data": {
            "text/html": [
              "<div>\n",
              "<style scoped>\n",
              "    .dataframe tbody tr th:only-of-type {\n",
              "        vertical-align: middle;\n",
              "    }\n",
              "\n",
              "    .dataframe tbody tr th {\n",
              "        vertical-align: top;\n",
              "    }\n",
              "\n",
              "    .dataframe thead th {\n",
              "        text-align: right;\n",
              "    }\n",
              "</style>\n",
              "<table border=\"1\" class=\"dataframe\">\n",
              "  <thead>\n",
              "    <tr style=\"text-align: right;\">\n",
              "      <th></th>\n",
              "      <th>A</th>\n",
              "      <th>B</th>\n",
              "      <th>A</th>\n",
              "      <th>D</th>\n",
              "    </tr>\n",
              "  </thead>\n",
              "  <tbody>\n",
              "    <tr>\n",
              "      <th>0</th>\n",
              "      <td>1</td>\n",
              "      <td>4</td>\n",
              "      <td>1</td>\n",
              "      <td>7</td>\n",
              "    </tr>\n",
              "    <tr>\n",
              "      <th>1</th>\n",
              "      <td>2</td>\n",
              "      <td>5</td>\n",
              "      <td>6</td>\n",
              "      <td>8</td>\n",
              "    </tr>\n",
              "    <tr>\n",
              "      <th>2</th>\n",
              "      <td>3</td>\n",
              "      <td>6</td>\n",
              "      <td>7</td>\n",
              "      <td>9</td>\n",
              "    </tr>\n",
              "  </tbody>\n",
              "</table>\n",
              "</div>"
            ],
            "text/plain": [
              "   A  B  A  D\n",
              "0  1  4  1  7\n",
              "1  2  5  6  8\n",
              "2  3  6  7  9"
            ]
          },
          "metadata": {
            "tags": []
          },
          "execution_count": 114
        }
      ]
    },
    {
      "cell_type": "markdown",
      "metadata": {
        "id": "JtSKNGQbjGlv",
        "colab_type": "text"
      },
      "source": [
        "#####  \n",
        "**Merge-**\n",
        "最主要用在兩個表格的串接，可選擇要串接的key值"
      ]
    },
    {
      "cell_type": "code",
      "metadata": {
        "id": "Qfjb0BL7j3sN",
        "colab_type": "code",
        "colab": {
          "base_uri": "https://localhost:8080/",
          "height": 142
        },
        "outputId": "c92627c9-e3a8-47be-9e97-25a4efbfec25"
      },
      "source": [
        "pd.merge(df1,df2,on='A', how = 'inner')#交集\n",
        "pd.merge(df1,df2,on='A', how = 'outer')#聯集\n",
        "pd.merge(df1,df2,on='A', how = 'left')#以左邊df為準進行合併\n",
        "pd.merge(df1,df2,on='A', how = 'right')#以右邊df為準進行合併\n"
      ],
      "execution_count": null,
      "outputs": [
        {
          "output_type": "execute_result",
          "data": {
            "text/html": [
              "<div>\n",
              "<style scoped>\n",
              "    .dataframe tbody tr th:only-of-type {\n",
              "        vertical-align: middle;\n",
              "    }\n",
              "\n",
              "    .dataframe tbody tr th {\n",
              "        vertical-align: top;\n",
              "    }\n",
              "\n",
              "    .dataframe thead th {\n",
              "        text-align: right;\n",
              "    }\n",
              "</style>\n",
              "<table border=\"1\" class=\"dataframe\">\n",
              "  <thead>\n",
              "    <tr style=\"text-align: right;\">\n",
              "      <th></th>\n",
              "      <th>A</th>\n",
              "      <th>B</th>\n",
              "      <th>D</th>\n",
              "    </tr>\n",
              "  </thead>\n",
              "  <tbody>\n",
              "    <tr>\n",
              "      <th>0</th>\n",
              "      <td>1</td>\n",
              "      <td>4.0</td>\n",
              "      <td>7</td>\n",
              "    </tr>\n",
              "    <tr>\n",
              "      <th>1</th>\n",
              "      <td>6</td>\n",
              "      <td>NaN</td>\n",
              "      <td>8</td>\n",
              "    </tr>\n",
              "    <tr>\n",
              "      <th>2</th>\n",
              "      <td>7</td>\n",
              "      <td>NaN</td>\n",
              "      <td>9</td>\n",
              "    </tr>\n",
              "  </tbody>\n",
              "</table>\n",
              "</div>"
            ],
            "text/plain": [
              "   A    B  D\n",
              "0  1  4.0  7\n",
              "1  6  NaN  8\n",
              "2  7  NaN  9"
            ]
          },
          "metadata": {
            "tags": []
          },
          "execution_count": 118
        }
      ]
    },
    {
      "cell_type": "markdown",
      "metadata": {
        "id": "l36qKDNi0gSe",
        "colab_type": "text"
      },
      "source": [
        "# **作業**\n",
        "\n",
        "#### **HW 2**\n",
        "#####研究員想要處理H0A0以及USGG兩個時間序列資料，但兩個資料檔日期有不一致情形，請協助研究員使用merge將資料做好預處理\n",
        "\n",
        "#### **HW 3**\n",
        "#####研究員想要比較在不同時間中債券指數的組成分中，是否有重複的項目，並想了解價格變動的狀況，請協助研究員找出來\n",
        "\n",
        "\n",
        "\n"
      ]
    }
  ]
}